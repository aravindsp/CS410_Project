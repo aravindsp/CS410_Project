{
 "cells": [
  {
   "cell_type": "code",
   "execution_count": 1,
   "metadata": {},
   "outputs": [],
   "source": [
    "import pandas as pd\n",
    "import glob\n",
    "from os.path import exists"
   ]
  },
  {
   "cell_type": "markdown",
   "metadata": {},
   "source": [
    "# Get All Documents"
   ]
  },
  {
   "cell_type": "code",
   "execution_count": 2,
   "metadata": {},
   "outputs": [],
   "source": [
    "# All files ending with .txt\n",
    "fileList = glob.glob(\"../movieFile/*.txt\")"
   ]
  },
  {
   "cell_type": "code",
   "execution_count": 3,
   "metadata": {},
   "outputs": [
    {
     "data": {
      "text/html": [
       "<div>\n",
       "<style scoped>\n",
       "    .dataframe tbody tr th:only-of-type {\n",
       "        vertical-align: middle;\n",
       "    }\n",
       "\n",
       "    .dataframe tbody tr th {\n",
       "        vertical-align: top;\n",
       "    }\n",
       "\n",
       "    .dataframe thead th {\n",
       "        text-align: right;\n",
       "    }\n",
       "</style>\n",
       "<table border=\"1\" class=\"dataframe\">\n",
       "  <thead>\n",
       "    <tr style=\"text-align: right;\">\n",
       "      <th></th>\n",
       "      <th>tconst</th>\n",
       "      <th>mov_text</th>\n",
       "    </tr>\n",
       "  </thead>\n",
       "  <tbody>\n",
       "    <tr>\n",
       "      <th>0</th>\n",
       "      <td>tt0250687</td>\n",
       "      <td>Rat Race (2001) : A Las Vegas casino magnate, ...</td>\n",
       "    </tr>\n",
       "    <tr>\n",
       "      <th>1</th>\n",
       "      <td>tt0405393</td>\n",
       "      <td>Rudo y Cursi (2008) : Two siblings are rivals ...</td>\n",
       "    </tr>\n",
       "    <tr>\n",
       "      <th>2</th>\n",
       "      <td>tt2318092</td>\n",
       "      <td>Endless Love (2014) : The story of a privilege...</td>\n",
       "    </tr>\n",
       "    <tr>\n",
       "      <th>3</th>\n",
       "      <td>tt0118647</td>\n",
       "      <td>The Assignment (1997) : An American naval offi...</td>\n",
       "    </tr>\n",
       "    <tr>\n",
       "      <th>4</th>\n",
       "      <td>tt0101316</td>\n",
       "      <td>The Lover (1992) : In 1929 French Indochina, a...</td>\n",
       "    </tr>\n",
       "  </tbody>\n",
       "</table>\n",
       "</div>"
      ],
      "text/plain": [
       "      tconst                                           mov_text\n",
       "0  tt0250687  Rat Race (2001) : A Las Vegas casino magnate, ...\n",
       "1  tt0405393  Rudo y Cursi (2008) : Two siblings are rivals ...\n",
       "2  tt2318092  Endless Love (2014) : The story of a privilege...\n",
       "3  tt0118647  The Assignment (1997) : An American naval offi...\n",
       "4  tt0101316  The Lover (1992) : In 1929 French Indochina, a..."
      ]
     },
     "execution_count": 3,
     "metadata": {},
     "output_type": "execute_result"
    }
   ],
   "source": [
    "## 'movieFile/tt0443701.txt',\n",
    "docList = []\n",
    "movList = []\n",
    "movText = []\n",
    "for fl in fileList:\n",
    "    with open(fl, 'r') as file:\n",
    "        data = file.read().replace('\\n', '')\n",
    "        dataSamp = data[:500]\n",
    "        f1 = dataSamp.find(')')\n",
    "        f2 = dataSamp.find(')',f1+1)\n",
    "        fdiff = f2 - f1\n",
    "        if fdiff <= 10:\n",
    "            dataSamp1 = dataSamp[:f1].strip().strip(' ')\n",
    "            dataSamp2 = dataSamp[f2+1:].strip().strip(' ')\n",
    "            dataSamp = dataSamp1 +\") : \" + dataSamp2\n",
    "        \n",
    "        movname = fl.replace('../movieFile/','').replace('.txt','')\n",
    "        data = movname+': '+data\n",
    "        \n",
    "    fl1 = '../movieFileTags/'+movname+'.txt'\n",
    "    if exists(fl1):\n",
    "        with open(fl1, 'r') as file:\n",
    "            dataTags = file.read().replace('\\n', '')\n",
    "            data = data + dataTags\n",
    "\n",
    "    docList.append(data)\n",
    "    movList.append(movname)\n",
    "    movText.append(dataSamp)\n",
    "df = pd.DataFrame(movList)\n",
    "df.columns = ['tconst']\n",
    "df['mov_text'] = movText\n",
    "df.head()"
   ]
  },
  {
   "cell_type": "code",
   "execution_count": 4,
   "metadata": {},
   "outputs": [
    {
     "name": "stdout",
     "output_type": "stream",
     "text": [
      "8905\n"
     ]
    }
   ],
   "source": [
    "print(len(df))\n",
    "df.to_csv('../files/corpusList.csv',header=True,index=False)"
   ]
  },
  {
   "cell_type": "code",
   "execution_count": 5,
   "metadata": {},
   "outputs": [],
   "source": [
    "with open('../corpus/corpus.dat', 'w') as f:\n",
    "    for item in docList:\n",
    "        f.write(\"%s\\n\" % item)"
   ]
  }
 ],
 "metadata": {
  "kernelspec": {
   "display_name": "Python 3",
   "language": "python",
   "name": "python3"
  },
  "language_info": {
   "codemirror_mode": {
    "name": "ipython",
    "version": 3
   },
   "file_extension": ".py",
   "mimetype": "text/x-python",
   "name": "python",
   "nbconvert_exporter": "python",
   "pygments_lexer": "ipython3",
   "version": "3.8.3"
  }
 },
 "nbformat": 4,
 "nbformat_minor": 4
}
