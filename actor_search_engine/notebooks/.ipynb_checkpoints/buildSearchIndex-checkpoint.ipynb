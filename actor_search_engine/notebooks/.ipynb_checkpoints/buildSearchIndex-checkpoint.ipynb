{
 "cells": [
  {
   "cell_type": "code",
   "execution_count": 8,
   "metadata": {},
   "outputs": [
    {
     "name": "stdout",
     "output_type": "stream",
     "text": [
      "Building or loading index...\n"
     ]
    },
    {
     "ename": "RuntimeError",
     "evalue": "config.toml could not be opened for parsing",
     "output_type": "error",
     "traceback": [
      "\u001b[0;31m---------------------------------------------------------------------------\u001b[0m",
      "\u001b[0;31mRuntimeError\u001b[0m                              Traceback (most recent call last)",
      "\u001b[0;32m<ipython-input-8-bb7b8c15c382>\u001b[0m in \u001b[0;36m<module>\u001b[0;34m\u001b[0m\n\u001b[1;32m     24\u001b[0m     \u001b[0mcfg\u001b[0m \u001b[0;34m=\u001b[0m \u001b[0;34m'config.toml'\u001b[0m\u001b[0;34m\u001b[0m\u001b[0;34m\u001b[0m\u001b[0m\n\u001b[1;32m     25\u001b[0m     \u001b[0mprint\u001b[0m\u001b[0;34m(\u001b[0m\u001b[0;34m'Building or loading index...'\u001b[0m\u001b[0;34m)\u001b[0m\u001b[0;34m\u001b[0m\u001b[0;34m\u001b[0m\u001b[0m\n\u001b[0;32m---> 26\u001b[0;31m     \u001b[0midx\u001b[0m \u001b[0;34m=\u001b[0m \u001b[0mmetapy\u001b[0m\u001b[0;34m.\u001b[0m\u001b[0mindex\u001b[0m\u001b[0;34m.\u001b[0m\u001b[0mmake_inverted_index\u001b[0m\u001b[0;34m(\u001b[0m\u001b[0mcfg\u001b[0m\u001b[0;34m)\u001b[0m\u001b[0;34m\u001b[0m\u001b[0;34m\u001b[0m\u001b[0m\n\u001b[0m\u001b[1;32m     27\u001b[0m     \u001b[0mranker\u001b[0m \u001b[0;34m=\u001b[0m \u001b[0mload_ranker\u001b[0m\u001b[0;34m(\u001b[0m\u001b[0mcfg\u001b[0m\u001b[0;34m)\u001b[0m\u001b[0;34m\u001b[0m\u001b[0;34m\u001b[0m\u001b[0m\n\u001b[1;32m     28\u001b[0m \u001b[0;34m\u001b[0m\u001b[0m\n",
      "\u001b[0;31mRuntimeError\u001b[0m: config.toml could not be opened for parsing"
     ]
    }
   ],
   "source": [
    "import math\n",
    "import sys\n",
    "import time\n",
    "\n",
    "import metapy\n",
    "import pytoml\n",
    "\n",
    "import pandas as pd\n",
    "\n",
    "\n",
    "def load_ranker(cfg_file):\n",
    "    \"\"\"\n",
    "    Use this function to return the Ranker object to evaluate, e.g. return InL2Ranker(some_param=1.0) \n",
    "    The parameter to this function, cfg_file, is the path to a\n",
    "    configuration file used to load the index. You can ignore this for MP2.\n",
    "    \"\"\"\n",
    "\n",
    "    return metapy.index.OkapiBM25(k1=1.2,b=0.75,k3=500)\n",
    "\n",
    "\n",
    "if __name__ == '__main__':\n",
    "\n",
    "\n",
    "    cfg = '../config.toml'\n",
    "    print('Building or loading index...')\n",
    "    idx = metapy.index.make_inverted_index(cfg)\n",
    "    ranker = load_ranker(cfg)\n",
    "\n",
    "    query = metapy.index.Document()\n",
    "    print('Running queries')\n",
    "    line = 'crazy rich asians'\n",
    "    query.content(line.strip())\n",
    "    results = ranker.score(idx, query, 500)\n"
   ]
  },
  {
   "cell_type": "code",
   "execution_count": null,
   "metadata": {},
   "outputs": [],
   "source": [
    "docList_tmp = []\n",
    "with open(\"../corpus/corpus.dat\", \"r\") as f:\n",
    "    for line in f:\n",
    "        docList_tmp.append(line.split(':')[0])\n",
    "docList_df = pd.DataFrame(docList_tmp)\n",
    "docList_df.columns = ['tconst']\n",
    "docList_df.to_csv('../files/docList_df.csv',header=True,index=False)\n",
    "docList_df.head()"
   ]
  },
  {
   "cell_type": "code",
   "execution_count": null,
   "metadata": {},
   "outputs": [],
   "source": [
    "docList_df=pd.read_csv('../files/docList_df.csv')\n",
    "docList = docList_df['tconst'].to_list()\n",
    "\n",
    "score_out = []\n",
    "for num,(d_id, score) in enumerate(results):\n",
    "    t_id = docList[d_id]\n",
    "    score_out.append([t_id,score])\n",
    "    \n",
    "if len(score_out) == 0:\n",
    "    score_out = [['t0',0]]\n",
    "    \n",
    "df = pd.DataFrame(score_out)\n",
    "df.columns=['tconst','doc_scores']\n",
    "\n",
    "corpusList=pd.read_csv('../files/corpusList.csv') #.set_index('nconst')\n",
    "df = df.merge(corpusList,how='inner')\n",
    "df_actor=pd.read_csv('actors.csv')\n",
    "df_actor =  df_actor.merge(df,how='inner')\n",
    "df_actor = df_actor[df_actor.doc_scores > 0.1]\n",
    "df_actor = df_actor.sort_values('doc_scores',ascending=False)\n",
    "\n",
    "df_actor['cum_rank'] = df_actor.groupby('nconst')['doc_scores'].rank(\"dense\", ascending=False)\n",
    "df_actor = df_actor[df_actor.cum_rank <= 4]\n",
    "df_actor['cum_score'] = df_actor.groupby('nconst')['doc_scores'].transform(\"sum\")\n",
    "df_actor = df_actor.sort_values(['cum_score','doc_scores'],ascending=False)\n",
    "df_actor = df_actor[:20].reset_index()\n",
    "\n",
    "df_actor['movLink'] = 'https://www.imdb.com/title/'+df_actor['tconst']+'/plotsummary'\n",
    "df_actor['actorLink'] = 'https://www.imdb.com/name/'+df_actor['nconst']\n",
    "df_actor = df_actor[['nconst','primaryName','mov_text','actorLink','movLink','cum_score']]\n",
    "df_actor_mov = df_actor.groupby(['nconst'])['movLink'].apply(list).reset_index()\n",
    "df_actor = df_actor.groupby(['nconst','primaryName','cum_score','actorLink'])['mov_text'].apply(list).reset_index()"
   ]
  },
  {
   "cell_type": "code",
   "execution_count": null,
   "metadata": {},
   "outputs": [],
   "source": [
    "for i in range(len(df_actor)):\n",
    "    actor = df_actor.iloc[i]['primaryName']\n",
    "    movies = df_actor.iloc[i]['mov_text']\n",
    "    print(\"**\",actor)\n",
    "    for m in movies:\n",
    "        print(m)\n",
    "        print(\"\")\n",
    "    print(\"=================================================\")"
   ]
  }
 ],
 "metadata": {
  "kernelspec": {
   "display_name": "Python3.6Test",
   "language": "python",
   "name": "python3.6test"
  },
  "language_info": {
   "codemirror_mode": {
    "name": "ipython",
    "version": 3
   },
   "file_extension": ".py",
   "mimetype": "text/x-python",
   "name": "python",
   "nbconvert_exporter": "python",
   "pygments_lexer": "ipython3",
   "version": "3.6.13"
  }
 },
 "nbformat": 4,
 "nbformat_minor": 4
}
