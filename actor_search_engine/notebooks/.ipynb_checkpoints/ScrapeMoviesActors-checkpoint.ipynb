{
 "cells": [
  {
   "cell_type": "markdown",
   "metadata": {},
   "source": [
    "# Read actors File"
   ]
  },
  {
   "cell_type": "code",
   "execution_count": 14,
   "metadata": {},
   "outputs": [],
   "source": [
    "import pandas as pd\n",
    "from os.path import exists\n",
    "import glob\n",
    "actors = pd.read_csv('../files/actorsOrig.csv', header=0)"
   ]
  },
  {
   "cell_type": "markdown",
   "metadata": {},
   "source": [
    "# Apply Filters"
   ]
  },
  {
   "cell_type": "code",
   "execution_count": 15,
   "metadata": {},
   "outputs": [
    {
     "name": "stdout",
     "output_type": "stream",
     "text": [
      "Actor Count before Filter: 57041\n",
      "57041\n"
     ]
    },
    {
     "data": {
      "text/html": [
       "<div>\n",
       "<style scoped>\n",
       "    .dataframe tbody tr th:only-of-type {\n",
       "        vertical-align: middle;\n",
       "    }\n",
       "\n",
       "    .dataframe tbody tr th {\n",
       "        vertical-align: top;\n",
       "    }\n",
       "\n",
       "    .dataframe thead th {\n",
       "        text-align: right;\n",
       "    }\n",
       "</style>\n",
       "<table border=\"1\" class=\"dataframe\">\n",
       "  <thead>\n",
       "    <tr style=\"text-align: right;\">\n",
       "      <th></th>\n",
       "      <th>nconst</th>\n",
       "      <th>primaryName</th>\n",
       "      <th>tconst</th>\n",
       "    </tr>\n",
       "  </thead>\n",
       "  <tbody>\n",
       "    <tr>\n",
       "      <th>0</th>\n",
       "      <td>nm0000004</td>\n",
       "      <td>John Belushi</td>\n",
       "      <td>tt0077621</td>\n",
       "    </tr>\n",
       "    <tr>\n",
       "      <th>1</th>\n",
       "      <td>nm0005460</td>\n",
       "      <td>Mary Steenburgen</td>\n",
       "      <td>tt0077621</td>\n",
       "    </tr>\n",
       "    <tr>\n",
       "      <th>2</th>\n",
       "      <td>nm0000004</td>\n",
       "      <td>John Belushi</td>\n",
       "      <td>tt0077975</td>\n",
       "    </tr>\n",
       "    <tr>\n",
       "      <th>3</th>\n",
       "      <td>nm0000261</td>\n",
       "      <td>Karen Allen</td>\n",
       "      <td>tt0077975</td>\n",
       "    </tr>\n",
       "    <tr>\n",
       "      <th>4</th>\n",
       "      <td>nm0001371</td>\n",
       "      <td>Tom Hulce</td>\n",
       "      <td>tt0077975</td>\n",
       "    </tr>\n",
       "  </tbody>\n",
       "</table>\n",
       "</div>"
      ],
      "text/plain": [
       "      nconst       primaryName     tconst\n",
       "0  nm0000004      John Belushi  tt0077621\n",
       "1  nm0005460  Mary Steenburgen  tt0077621\n",
       "2  nm0000004      John Belushi  tt0077975\n",
       "3  nm0000261       Karen Allen  tt0077975\n",
       "4  nm0001371         Tom Hulce  tt0077975"
      ]
     },
     "execution_count": 15,
     "metadata": {},
     "output_type": "execute_result"
    }
   ],
   "source": [
    "print(\"Actor Count before Filter:\",len(actors))\n",
    "#actors = actors[0:1000]\n",
    "actors = actors.reset_index(drop=True)\n",
    "print(len(actors))\n",
    "actors.head()"
   ]
  },
  {
   "cell_type": "markdown",
   "metadata": {},
   "source": [
    "# Check Samples"
   ]
  },
  {
   "cell_type": "markdown",
   "metadata": {},
   "source": [
    "# Get Unique Titles for Actors"
   ]
  },
  {
   "cell_type": "code",
   "execution_count": 16,
   "metadata": {},
   "outputs": [
    {
     "name": "stdout",
     "output_type": "stream",
     "text": [
      "18657\n"
     ]
    }
   ],
   "source": [
    "uniqTitles = list(set(actors['tconst']))\n",
    "uniqTitles.sort()\n",
    "print(len(uniqTitles))"
   ]
  },
  {
   "cell_type": "markdown",
   "metadata": {},
   "source": [
    "# Scrape Related Fuctions"
   ]
  },
  {
   "cell_type": "code",
   "execution_count": 17,
   "metadata": {},
   "outputs": [],
   "source": [
    "from bs4 import BeautifulSoup\n",
    "from selenium import webdriver \n",
    "from selenium.webdriver.chrome.options import Options\n",
    "import re \n",
    "import urllib\n",
    "import time"
   ]
  },
  {
   "cell_type": "code",
   "execution_count": 18,
   "metadata": {},
   "outputs": [],
   "source": [
    "#create a webdriver object and set options for headless browsing\n",
    "options = Options()\n",
    "options.headless = True\n",
    "driver = webdriver.Chrome('../chromedriver',options=options)"
   ]
  },
  {
   "cell_type": "code",
   "execution_count": 19,
   "metadata": {},
   "outputs": [],
   "source": [
    "#uses webdriver object to execute javascript code and get dynamically loaded webcontent\n",
    "def get_js_soup(url,driver):\n",
    "    driver.get(url)\n",
    "    res_html = driver.execute_script('return document.body.innerHTML')\n",
    "    soup = BeautifulSoup(res_html,'html.parser') #beautiful soup object to be used for parsing html content\n",
    "    return soup\n",
    "\n",
    "#tidies extracted text \n",
    "def process_mov(mov):\n",
    "    mov = mov.encode('ascii',errors='ignore').decode('utf-8')       #removes non-ascii characters\n",
    "    mov = re.sub('\\s+',' ',mov)       #repalces repeated whitespace characters with single space\n",
    "    return mov\n",
    "\n",
    "''' More tidying\n",
    "Sometimes the text extracted HTML webpage may contain javascript code and some style elements. \n",
    "This function removes script and style tags from HTML so that extracted text does not contain them.\n",
    "'''\n",
    "def remove_script(soup):\n",
    "    for script in soup([\"script\", \"style\"]):\n",
    "        script.decompose()\n",
    "    return soup\n",
    "\n",
    "\n",
    "#Checks if bio_url is a valid faculty homepage\n",
    "def is_valid_homepage(mov_url,dir_url):\n",
    "    if mov_url.endswith('.pdf'): #we're not parsing pdfs\n",
    "        return False\n",
    "    try:\n",
    "        #sometimes the homepage url points to the same page as the faculty profile page\n",
    "        #which should be treated differently from an actual homepage\n",
    "        ret_url = urllib.request.urlopen(mov_url).geturl() \n",
    "    except:\n",
    "        return False       #unable to access bio_url\n",
    "    urls = [re.sub('((https?://)|(www.))','',url) for url in [ret_url,dir_url]] #removes url scheme (https,http or www) \n",
    "    return not(urls[0]== urls[1])\n",
    "\n",
    "def scrape_movie_page(mov_url,driver):\n",
    "    soup = get_js_soup(mov_url,driver)\n",
    "    homepage_found = False\n",
    "    #profile_sec = soup.find('section',class_='main-content')\n",
    "    profile_sec = soup.find('section',class_='article listo')\n",
    "    if profile_sec == None:\n",
    "        mov = ''\n",
    "        print(\"Skipping mov : \",mov_url)\n",
    "    else:\n",
    "        mov = process_mov(profile_sec.get_text(separator=' '))\n",
    "    return mov_url,mov"
   ]
  },
  {
   "cell_type": "code",
   "execution_count": 20,
   "metadata": {},
   "outputs": [],
   "source": [
    "def write_lst(lst,file_):\n",
    "    lst = lst.replace(' Plot Showing all 0 items Jump to: ','')\n",
    "    lst = lst.replace(' Plot Showing all 1 items Jump to: Summaries (1) ','')\n",
    "    lst = lst.replace(' Plot Showing all 2 items Jump to: Summaries (2) ','')\n",
    "    lst = lst.replace(' Plot Showing all 3 items Jump to: Summaries (3) ','')\n",
    "    lst = lst.replace(' Plot Showing all ','').replace(' items Jump to: Summaries (','')\n",
    "    lst = lst.replace(') Synopsis (','').replace(' Synopsis','').replace(' Summaries','')\n",
    "    lst = lst.replace('Edit ','')\n",
    "\n",
    "    with open(file_,'w') as f:\n",
    "        f.write(lst)"
   ]
  },
  {
   "cell_type": "markdown",
   "metadata": {},
   "source": [
    "# Scrape Movie plot summary and store in \"movieFile\" dir \n",
    "\n",
    "- Skip already processed files in case of a Restart"
   ]
  },
  {
   "cell_type": "code",
   "execution_count": 21,
   "metadata": {},
   "outputs": [
    {
     "name": "stdout",
     "output_type": "stream",
     "text": [
      "tt9916362\n",
      "18657\n",
      "0 8905\n"
     ]
    }
   ],
   "source": [
    "fileList = glob.glob(\"../movieFile/*.txt\")\n",
    "\n",
    "if len(fileList) <= 0:\n",
    "    last_scraped = 'a'\n",
    "else:\n",
    "    last_scraped = max(fileList).replace('../movieFile/','').replace('.txt','')\n",
    "\n",
    "print(last_scraped)\n",
    "print(len(uniqTitles))\n",
    "uniqTitles = sorted(i for i in uniqTitles if i > last_scraped)\n",
    "print(len(uniqTitles),len(fileList))\n"
   ]
  },
  {
   "cell_type": "code",
   "execution_count": 10,
   "metadata": {},
   "outputs": [],
   "source": [
    "#Scrape homepages of all urls\n",
    "tot_urls = len(uniqTitles)\n",
    "for i,l in enumerate(uniqTitles):\n",
    "    link=\"https://www.imdb.com/title/\"+l+\"/plotsummary\"\n",
    "    print ('-'*20,'Scraping movie url {}/{}'.format(i+1,tot_urls),'-'*20)\n",
    "    print(link)\n",
    "    mov_urls, movs = [],[]\n",
    "    mov_url,mov = scrape_movie_page(link,driver)\n",
    "    if len(mov) < 2000:\n",
    "        print(\"SKIPPING\")\n",
    "    else:\n",
    "        if mov.strip()!= '' and mov_url.strip()!='':\n",
    "            mov_file = '../movieFile/'+l+'.txt'\n",
    "            write_lst(mov,mov_file)\n",
    "driver.close()"
   ]
  },
  {
   "cell_type": "code",
   "execution_count": 11,
   "metadata": {},
   "outputs": [
    {
     "data": {
      "text/html": [
       "<div>\n",
       "<style scoped>\n",
       "    .dataframe tbody tr th:only-of-type {\n",
       "        vertical-align: middle;\n",
       "    }\n",
       "\n",
       "    .dataframe tbody tr th {\n",
       "        vertical-align: top;\n",
       "    }\n",
       "\n",
       "    .dataframe thead th {\n",
       "        text-align: right;\n",
       "    }\n",
       "</style>\n",
       "<table border=\"1\" class=\"dataframe\">\n",
       "  <thead>\n",
       "    <tr style=\"text-align: right;\">\n",
       "      <th></th>\n",
       "      <th>tconst</th>\n",
       "    </tr>\n",
       "  </thead>\n",
       "  <tbody>\n",
       "    <tr>\n",
       "      <th>0</th>\n",
       "      <td>tt0250687</td>\n",
       "    </tr>\n",
       "    <tr>\n",
       "      <th>1</th>\n",
       "      <td>tt0405393</td>\n",
       "    </tr>\n",
       "    <tr>\n",
       "      <th>2</th>\n",
       "      <td>tt2318092</td>\n",
       "    </tr>\n",
       "    <tr>\n",
       "      <th>3</th>\n",
       "      <td>tt0118647</td>\n",
       "    </tr>\n",
       "    <tr>\n",
       "      <th>4</th>\n",
       "      <td>tt0101316</td>\n",
       "    </tr>\n",
       "  </tbody>\n",
       "</table>\n",
       "</div>"
      ],
      "text/plain": [
       "      tconst\n",
       "0  tt0250687\n",
       "1  tt0405393\n",
       "2  tt2318092\n",
       "3  tt0118647\n",
       "4  tt0101316"
      ]
     },
     "execution_count": 11,
     "metadata": {},
     "output_type": "execute_result"
    }
   ],
   "source": [
    "fileList = glob.glob(\"../movieFile/*.txt\")\n",
    "activeMovs = []\n",
    "for i in fileList:\n",
    "    activeMovs.append(i.replace('../movieFile/','').replace('.txt',''))\n",
    "    \n",
    "df_act_movs = pd.DataFrame(activeMovs)\n",
    "df_act_movs.columns = ['tconst']\n",
    "df_act_movs.head()"
   ]
  },
  {
   "cell_type": "code",
   "execution_count": 12,
   "metadata": {},
   "outputs": [
    {
     "name": "stdout",
     "output_type": "stream",
     "text": [
      "57041\n",
      "28176\n"
     ]
    }
   ],
   "source": [
    "print(len(actors))\n",
    "actors = actors.merge(df_act_movs,how='inner')\n",
    "print(len(actors))"
   ]
  },
  {
   "cell_type": "markdown",
   "metadata": {},
   "source": [
    "# Store actors list with the scraped movies"
   ]
  },
  {
   "cell_type": "code",
   "execution_count": 13,
   "metadata": {},
   "outputs": [
    {
     "name": "stdout",
     "output_type": "stream",
     "text": [
      "28176\n"
     ]
    },
    {
     "data": {
      "text/html": [
       "<div>\n",
       "<style scoped>\n",
       "    .dataframe tbody tr th:only-of-type {\n",
       "        vertical-align: middle;\n",
       "    }\n",
       "\n",
       "    .dataframe tbody tr th {\n",
       "        vertical-align: top;\n",
       "    }\n",
       "\n",
       "    .dataframe thead th {\n",
       "        text-align: right;\n",
       "    }\n",
       "</style>\n",
       "<table border=\"1\" class=\"dataframe\">\n",
       "  <thead>\n",
       "    <tr style=\"text-align: right;\">\n",
       "      <th></th>\n",
       "      <th>nconst</th>\n",
       "      <th>primaryName</th>\n",
       "      <th>tconst</th>\n",
       "    </tr>\n",
       "  </thead>\n",
       "  <tbody>\n",
       "    <tr>\n",
       "      <th>0</th>\n",
       "      <td>nm0000004</td>\n",
       "      <td>John Belushi</td>\n",
       "      <td>tt0077975</td>\n",
       "    </tr>\n",
       "    <tr>\n",
       "      <th>1</th>\n",
       "      <td>nm0000261</td>\n",
       "      <td>Karen Allen</td>\n",
       "      <td>tt0077975</td>\n",
       "    </tr>\n",
       "    <tr>\n",
       "      <th>2</th>\n",
       "      <td>nm0001371</td>\n",
       "      <td>Tom Hulce</td>\n",
       "      <td>tt0077975</td>\n",
       "    </tr>\n",
       "    <tr>\n",
       "      <th>3</th>\n",
       "      <td>nm0299122</td>\n",
       "      <td>Stephen Furst</td>\n",
       "      <td>tt0077975</td>\n",
       "    </tr>\n",
       "    <tr>\n",
       "      <th>4</th>\n",
       "      <td>nm0000004</td>\n",
       "      <td>John Belushi</td>\n",
       "      <td>tt0078723</td>\n",
       "    </tr>\n",
       "  </tbody>\n",
       "</table>\n",
       "</div>"
      ],
      "text/plain": [
       "      nconst    primaryName     tconst\n",
       "0  nm0000004   John Belushi  tt0077975\n",
       "1  nm0000261    Karen Allen  tt0077975\n",
       "2  nm0001371      Tom Hulce  tt0077975\n",
       "3  nm0299122  Stephen Furst  tt0077975\n",
       "4  nm0000004   John Belushi  tt0078723"
      ]
     },
     "execution_count": 13,
     "metadata": {},
     "output_type": "execute_result"
    }
   ],
   "source": [
    "print(len(actors))\n",
    "actors.to_csv('../files/actors.csv',header=True,index=False)\n",
    "actors.head()"
   ]
  },
  {
   "cell_type": "code",
   "execution_count": null,
   "metadata": {},
   "outputs": [],
   "source": []
  }
 ],
 "metadata": {
  "kernelspec": {
   "display_name": "Python 3",
   "language": "python",
   "name": "python3"
  },
  "language_info": {
   "codemirror_mode": {
    "name": "ipython",
    "version": 3
   },
   "file_extension": ".py",
   "mimetype": "text/x-python",
   "name": "python",
   "nbconvert_exporter": "python",
   "pygments_lexer": "ipython3",
   "version": "3.8.3"
  }
 },
 "nbformat": 4,
 "nbformat_minor": 4
}
