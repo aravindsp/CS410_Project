{
 "cells": [
  {
   "cell_type": "code",
   "execution_count": 18,
   "metadata": {},
   "outputs": [],
   "source": [
    "import pandas as pd\n",
    "from rank_bm25 import *\n",
    "import glob\n",
    "import re"
   ]
  },
  {
   "cell_type": "code",
   "execution_count": 19,
   "metadata": {},
   "outputs": [
    {
     "data": {
      "text/html": [
       "<div>\n",
       "<style scoped>\n",
       "    .dataframe tbody tr th:only-of-type {\n",
       "        vertical-align: middle;\n",
       "    }\n",
       "\n",
       "    .dataframe tbody tr th {\n",
       "        vertical-align: top;\n",
       "    }\n",
       "\n",
       "    .dataframe thead th {\n",
       "        text-align: right;\n",
       "    }\n",
       "</style>\n",
       "<table border=\"1\" class=\"dataframe\">\n",
       "  <thead>\n",
       "    <tr style=\"text-align: right;\">\n",
       "      <th></th>\n",
       "      <th>primaryName</th>\n",
       "      <th>birthYear</th>\n",
       "      <th>deathYear</th>\n",
       "      <th>primaryProfession</th>\n",
       "      <th>knownForTitles</th>\n",
       "      <th>titleCount</th>\n",
       "    </tr>\n",
       "    <tr>\n",
       "      <th>nconst</th>\n",
       "      <th></th>\n",
       "      <th></th>\n",
       "      <th></th>\n",
       "      <th></th>\n",
       "      <th></th>\n",
       "      <th></th>\n",
       "    </tr>\n",
       "  </thead>\n",
       "  <tbody>\n",
       "    <tr>\n",
       "      <th>nm0000084</th>\n",
       "      <td>Gong Li</td>\n",
       "      <td>1965</td>\n",
       "      <td>\\N</td>\n",
       "      <td>actress</td>\n",
       "      <td>tt0101640,tt0430357,tt0397535,tt0473444</td>\n",
       "      <td>4</td>\n",
       "    </tr>\n",
       "    <tr>\n",
       "      <th>nm0000093</th>\n",
       "      <td>Brad Pitt</td>\n",
       "      <td>1963</td>\n",
       "      <td>\\N</td>\n",
       "      <td>actor,producer,soundtrack</td>\n",
       "      <td>tt0114746,tt1210166,tt0356910,tt2935510</td>\n",
       "      <td>4</td>\n",
       "    </tr>\n",
       "    <tr>\n",
       "      <th>nm0000096</th>\n",
       "      <td>Gillian Anderson</td>\n",
       "      <td>1968</td>\n",
       "      <td>\\N</td>\n",
       "      <td>actress,producer,soundtrack</td>\n",
       "      <td>tt0106179,tt2294189,tt0455590,tt0442632</td>\n",
       "      <td>4</td>\n",
       "    </tr>\n",
       "    <tr>\n",
       "      <th>nm0000097</th>\n",
       "      <td>Pamela Anderson</td>\n",
       "      <td>1967</td>\n",
       "      <td>\\N</td>\n",
       "      <td>actress,producer,director</td>\n",
       "      <td>tt0115624,tt0267913,tt0306047,tt0426592</td>\n",
       "      <td>4</td>\n",
       "    </tr>\n",
       "    <tr>\n",
       "      <th>nm0000098</th>\n",
       "      <td>Jennifer Aniston</td>\n",
       "      <td>1969</td>\n",
       "      <td>\\N</td>\n",
       "      <td>actress,producer,soundtrack</td>\n",
       "      <td>tt1723121,tt0279113,tt0108778,tt3442006</td>\n",
       "      <td>4</td>\n",
       "    </tr>\n",
       "  </tbody>\n",
       "</table>\n",
       "</div>"
      ],
      "text/plain": [
       "                primaryName birthYear deathYear            primaryProfession  \\\n",
       "nconst                                                                         \n",
       "nm0000084           Gong Li      1965        \\N                      actress   \n",
       "nm0000093         Brad Pitt      1963        \\N    actor,producer,soundtrack   \n",
       "nm0000096  Gillian Anderson      1968        \\N  actress,producer,soundtrack   \n",
       "nm0000097   Pamela Anderson      1967        \\N    actress,producer,director   \n",
       "nm0000098  Jennifer Aniston      1969        \\N  actress,producer,soundtrack   \n",
       "\n",
       "                                    knownForTitles  titleCount  \n",
       "nconst                                                          \n",
       "nm0000084  tt0101640,tt0430357,tt0397535,tt0473444           4  \n",
       "nm0000093  tt0114746,tt1210166,tt0356910,tt2935510           4  \n",
       "nm0000096  tt0106179,tt2294189,tt0455590,tt0442632           4  \n",
       "nm0000097  tt0115624,tt0267913,tt0306047,tt0426592           4  \n",
       "nm0000098  tt1723121,tt0279113,tt0108778,tt3442006           4  "
      ]
     },
     "execution_count": 19,
     "metadata": {},
     "output_type": "execute_result"
    }
   ],
   "source": [
    "actors=pd.read_csv('actors.csv').set_index('nconst')\n",
    "actors.head()"
   ]
  },
  {
   "cell_type": "markdown",
   "metadata": {},
   "source": [
    "# Get All Documents"
   ]
  },
  {
   "cell_type": "code",
   "execution_count": 20,
   "metadata": {},
   "outputs": [],
   "source": [
    "# All files ending with .txt\n",
    "fileList = glob.glob(\"actorFile/*.txt\")"
   ]
  },
  {
   "cell_type": "code",
   "execution_count": 21,
   "metadata": {},
   "outputs": [],
   "source": [
    "docList = []\n",
    "for fl in fileList:\n",
    "    with open(fl, 'r') as file:\n",
    "        data = file.read().replace('\\n', '')\n",
    "        #data = spl_chars_removal(data)\n",
    "        #data = stopwprds_removal_gensim_custom(data)\n",
    "    docList.append(data)"
   ]
  },
  {
   "cell_type": "markdown",
   "metadata": {},
   "source": [
    "# Tokenise"
   ]
  },
  {
   "cell_type": "code",
   "execution_count": 22,
   "metadata": {},
   "outputs": [],
   "source": [
    "tokenized_corpus = [doc.split(\" \") for doc in docList]\n",
    "bm25 = BM25Okapi(tokenized_corpus)"
   ]
  },
  {
   "cell_type": "markdown",
   "metadata": {},
   "source": [
    "# Test with Sample Query"
   ]
  },
  {
   "cell_type": "code",
   "execution_count": 23,
   "metadata": {},
   "outputs": [],
   "source": [
    "query = \"time travel\" ## Enter search query\n",
    "tokenized_query = query.split(\" \")"
   ]
  },
  {
   "cell_type": "code",
   "execution_count": 24,
   "metadata": {},
   "outputs": [],
   "source": [
    "#doc_scores = bm25.get_scores(tokenized_query)\n",
    "#print(doc_scores)\n",
    "rankedDocs = bm25.get_top_n(tokenized_query, docList, n=5)"
   ]
  },
  {
   "cell_type": "markdown",
   "metadata": {},
   "source": [
    "# Print Results"
   ]
  },
  {
   "cell_type": "code",
   "execution_count": 25,
   "metadata": {},
   "outputs": [
    {
     "name": "stdout",
     "output_type": "stream",
     "text": [
      "** Rachel Miner\n",
      " Bully (2001)44) A pack of nave teenagers conspire to murder a mutual friend, whose aggressive demeanor has proved too much. After finding himself at the constant abuse of his best friend Bobby, Marty has become fed up with his friend's twisted ways. His girlfriend, a victim of Bobby's often cruel ways, couldn't agree more and they strategize murdering Bobby with a group of willing and unwilling participants in a small Florida town. In the midst of their plotting, they contemplate the possible a\n",
      "\n",
      " Guiding Light (19522009)Summaries This show took place in the fictional Midwestern town of Springfield and centered on the middle class Bauer family. This show took place in the fictional Midwestern town of Springfield. In its early years, the stories centered on the middle class Bauer family, but later the wealthy Spauldings, Chamberlains, and Lewises, along with the working class Reardons and others, took their own places of prominence, though the Bauers remained the heart of the show. This s\n",
      "\n",
      " The Black Dahlia (2006)Summaries Two policemen see their personal and professional lives fall apart in the wake of the \"Black Dahlia\" Elizabeth Short murder investigation. In 1946, the former boxers Dwight \"Bucky\" Bleichert and Lee Blanchard are policemen in Los Angeles. Lee has a good relationship with his chief and uses a box fight between them to promote the department and get a raise to the police force. They succeed and are promoted to homicide detectives, working together. Bucky becomes a\n",
      "\n",
      " The Butterfly Effect 3: Revelations (2009)321) Sam Reide uses his power to time travel to solve the mystery of his girlfriend's death. Sam Reide has the ability of traveling to the past and works with the police department solving unresolved crimes, witnessing the events with the support of his sister, Jenna Reide and reporting the criminal's identity to detective Dan Glenn. When Elizabeth Brown, the sister of his former girlfriend Rebecca Brown that was murdered a couple of years ago pays a vi\n",
      "\n",
      "=================================================\n",
      "** Charley Scalies\n",
      " The Wire (20022008)431) The Baltimore drug scene, as seen through the eyes of drug dealers and law enforcement. The streets of Baltimore as a microcosm of the US's war on drugs, and of US urban decay in general. Seen not only through the eyes of a few policemen and drug gang members but also the people who influence and inhabit their world - politicians, the media, drug addicts and everyday citizens. grantss From the drug-infested streets of West Baltimore to the corruption of City Hall, The Wi\n",
      "\n",
      " Condition Red (1995)Summaries Prison guard falls in love with inmate. She wants him to let her escape. It looks like we don't have a for this title yet. Be the first to contribute! Just click the \"page\" button at the bottom of the page or learn more in the submission guide . \n",
      "\n",
      " 12 Monkeys (1995)761) In a future world devastated by disease, a convict is sent back in time to gather information about the man-made virus that wiped out most of the human population on the planet. James Cole, a prisoner of the state in the year 2035, can earn parole if he agrees to travel back in time and thwart a devastating plague. The virus has wiped out most of the Earth's population and the remainder live underground because the air is poisonous. Returning to the year 1990, six years be\n",
      "\n",
      " Liberty Heights (1999)Summaries Baltimore, Fall 1954: Schools implement the new integration law. Ben finds the \"colored\" girl in his class cute - upsetting his Jewish mom and granny. Ben talks to her while his brother looks for his WASP dream girl. Anti-Semitism, race relations, coming of age, and fathers and sons: in Baltimore from fall, 1954, to fall, 1955. Racial integration comes to the high school, TV is killing burlesque, and rock and roll is pushing the Four Lads off the Hit Parade. Ben,\n",
      "\n",
      "=================================================\n",
      "** Mia Sara\n",
      " Black Day Blue Night (1995)Summaries The disgruntled wife of a cheating husband takes off on a road trip with her husband's mistress. The two women pick up a hitchhiker who may or may not be a robber and murderer on the run from the authorities. In the meantime, a cop who is tracking the robber/murderer is hot on the trail--but why? David Haskins <lazarus@mindspring.com> After wife walks in on husband and his mistress takes off on the road. In shock from catching her husband, she takes the mist\n",
      "\n",
      " Ferris Bueller's Day Off (1986)761) A high school wise guy is determined to have a day off from school, despite what the Principal thinks of that. High school student Ferris Bueller wants a day off from school and he's developed an incredibly sophisticated plan to pull it off. He talks his friend Cameron into taking his father's prized Ferrari and with his girlfriend Sloane head into Chicago for the day. While they are taking in what the city has to offer school principal Ed Rooney is convinced\n",
      "\n",
      " Legend (1985)431) A young man must stop the Lord of Darkness from destroying daylight and marrying the woman he loves. A demon who seeks to create eternal night by destroying the last of the unicorns and marrying a fairy Princess is opposed by the forest boy Jack (Tom Cruise) and his elven allies in this magical fantasy. Two different versions of this movie feature soundtracks by either Tangerine Dream or Jerry Goldsmith. Keith Loh <loh@sfu.ca> A magical adventure which features elves, demons, \n",
      "\n",
      " Timecop (1994)761) Max Walker, an officer for a security agency that regulates time travel, must fend for his life against a shady politician who's intent on changing the past to control the future. When the ability to travel through time is perfected, a new type of law enforcement agency is formed. It's called Time Enforcement Commission or TEC. A cop, Max Walker, is assigned to the group. On the day he was chosen, some men attack him and kill his wife. Ten years later Max is still grieving bu\n",
      "\n",
      "=================================================\n",
      "** J. Wesley Adams\n",
      " Bull Durham (1988)431) A fan who has an affair with one minor-league baseball player each season meets an up-and-coming pitcher and the experienced catcher assigned to him. It's the start of the minor league baseball season, and Annie Savoy, for who baseball is *the* religion, is going through the annual process of choosing the one player on her home team of the Durham Bulls of the Carolina League, he who she will take under her wings, sexual and otherwise, solely for the season, and who has al\n",
      "\n",
      " The Time Machine (2002)541) Hoping to alter the events of the past, a 19th century inventor instead travels 800,000 years into the future, where he finds humankind divided into two warring races. Based on the classic sci-fi novel by H.G. Wells, scientist and inventor, Alexander Hartdegen, is determined to prove that time travel is possible. His determination is turned to desperation by a personal tragedy that now drives him to want to change the past. Testing his theories with a time machine of\n",
      "\n",
      " Dances with Wolves (1990)541) Lieutenant John Dunbar, assigned to a remote western Civil War outpost, befriends wolves and Native Americans, making him an intolerable aberration in the military. Lt. John Dunbar is dubbed a hero after he accidentally leads Union troops to a victory during the Civil War. He requests a position on the western frontier, but finds it deserted. He soon finds out he is not alone, but meets a wolf he dubs \"Two-socks\" and a curious Indian tribe. Dunbar quickly makes fri\n",
      "\n",
      " Holes (2003)541) A wrongfully convicted boy is sent to a brutal desert detention camp where he joins the job of digging holes for some mysterious reason. \"But if you forget to come back for Madame Zeroni, you and your family will be cursed for always and eternity.\" Those were the exact words spoken to young Elya Yelnats the day he forgot to repay Madame Zeroni. From then on his family was cursed with bad luck. One hundred years later Stanley Yelnats IV is accused of stealing a pair of cleats fr\n",
      "\n",
      "=================================================\n",
      "** Stacey Adams\n",
      " Sweet Revenge (I) (1987)Summaries Nancy Allen plays an investigative news reporter Jillian Gray, who, along with her daughter is kidnapped by white slave king Cicero, after getting too close with her investigation. Now that she has escaped, she seeks revenge on Cicero. Concorde - New Horizons (with permission). It looks like we don't have a for this title yet. Be the first to contribute! Just click the \"page\" button at the bottom of the page or learn more in the submission guide . \n",
      "\n",
      " Defense Play (1988)Summaries Professor Vandemeer works on a secret project for the US-Air-Force called DART: a very small helicopter for scouting and defense. When he gets killed, Colonel Denton gets under suspicion. His son Scott and Vandemeers daughter Karen believe in his innocence and search for the true murderer and his motives. Tom Zoerner <Tom.Zoerner@informatik.uni-erlangen.de> It looks like we don't have a for this title yet. Be the first to contribute! Just click the \"page\" button at \n",
      "\n",
      " Open House (1987)Summaries Someone is killing off nubile real estate agents. A psychologist doing a therapy talk show begins getting calls from the perpetrator, and cooperates with the police to try and stop him. Unfortunately, his lover is a real estate agent, and when it becomes clear that the madman is getting information for his kills from her discarded home listings, they both become endangered. Ed Sutton <esutton@mindspring.com> It looks like we don't have a for this title yet. Be the fir\n",
      "\n",
      " Quantum Leap (19891993)66) During a government experiment into time travel, a scientist finds himself trapped in the past, \"leaping\" into the bodies of different people on a regular basis and sorting out their problems whilst trying to get back home to his own time. Theorising that one could time travel within his own lifetime, Dr Sam Beckett stepped into the Quantum Leap Accelerator, and vanished. He awoke and found himself trapped in the past, facing mirror images that were not his own and dr\n",
      "\n",
      "=================================================\n"
     ]
    }
   ],
   "source": [
    "for i in rankedDocs:\n",
    "    nmLoc = i.find(': ')\n",
    "    i_Val=i[0:nmLoc]\n",
    "    i_Loc = actors.index.get_loc(i_Val)\n",
    "    actor = actors.iloc[i_Loc]['primaryName']\n",
    "    movies = actors.iloc[i_Loc]['knownForTitles']\n",
    "    print(\"**\",actor)\n",
    "    for m in movies.split(','):\n",
    "        fl_2 = 'movieFile/'+m+'.txt'\n",
    "        with open(fl_2, 'r') as file:\n",
    "            data = file.read().replace('\\n \\n', '')\n",
    "            print(data[0:500])\n",
    "            print('')\n",
    "    print(\"=================================================\")"
   ]
  },
  {
   "cell_type": "code",
   "execution_count": 26,
   "metadata": {},
   "outputs": [
    {
     "name": "stdout",
     "output_type": "stream",
     "text": [
      "[0.         0.         2.36660185 ... 2.39131028 2.43250964 0.        ]\n"
     ]
    }
   ],
   "source": [
    "doc_scores = bm25.get_scores(tokenized_query)\n",
    "print(doc_scores)"
   ]
  },
  {
   "cell_type": "code",
   "execution_count": 28,
   "metadata": {},
   "outputs": [
    {
     "data": {
      "text/plain": [
       "['time', 'travel']"
      ]
     },
     "execution_count": 28,
     "metadata": {},
     "output_type": "execute_result"
    }
   ],
   "source": [
    "tokenized_query"
   ]
  },
  {
   "cell_type": "code",
   "execution_count": 29,
   "metadata": {},
   "outputs": [],
   "source": [
    "if 1==1:\n",
    "    actorOut = []\n",
    "    actorLink = []\n",
    "    movieOut = []\n",
    "    movLinks = []\n",
    "    for i in rankedDocs:\n",
    "        nmLoc = i.find(': ')\n",
    "        i_Val=i[0:nmLoc]\n",
    "        i_Loc = actors.index.get_loc(i_Val)\n",
    "        i_Loc_df = actors.iloc[i_Loc]\n",
    "        actor = i_Loc_df['primaryName']\n",
    "        actorOut.append(actor)\n",
    "        actorLink.append('https://www.imdb.com/name/'+i_Val)\n",
    "        movies = i_Loc_df['knownForTitles']\n",
    "        movs = []\n",
    "        movLink = []\n",
    "        #movs = ''\n",
    "        for m in movies.split(','):\n",
    "            fl_2 = 'movieFile/'+m+'.txt'\n",
    "            with open(fl_2, 'r') as file:\n",
    "                data = file.read() #.replace('\\n \\n', '')\n",
    "                data = data[1:800] + '\\n' + ' ' + '\\n'\n",
    "            movs.append(data)\n",
    "            movLink.append('https://www.imdb.com/title/'+m+'/plotsummary')\n",
    "        movLinks.append(movLink)\n",
    "            #movs = movs + data\n",
    "        movieOut.append(movs)\n",
    "        \n",
    "    \n",
    "    dfl=pd.DataFrame()\n",
    "    dfl['actorOut']=actorOut\n",
    "    dfl['movieOut']=movieOut\n",
    "    dfl['actorLink']=actorLink\n",
    "    dfl['movLink']=movLinks"
   ]
  },
  {
   "cell_type": "code",
   "execution_count": 30,
   "metadata": {},
   "outputs": [
    {
     "data": {
      "text/html": [
       "<div>\n",
       "<style scoped>\n",
       "    .dataframe tbody tr th:only-of-type {\n",
       "        vertical-align: middle;\n",
       "    }\n",
       "\n",
       "    .dataframe tbody tr th {\n",
       "        vertical-align: top;\n",
       "    }\n",
       "\n",
       "    .dataframe thead th {\n",
       "        text-align: right;\n",
       "    }\n",
       "</style>\n",
       "<table border=\"1\" class=\"dataframe\">\n",
       "  <thead>\n",
       "    <tr style=\"text-align: right;\">\n",
       "      <th></th>\n",
       "      <th>actorOut</th>\n",
       "      <th>movieOut</th>\n",
       "      <th>actorLink</th>\n",
       "      <th>movLink</th>\n",
       "    </tr>\n",
       "  </thead>\n",
       "  <tbody>\n",
       "    <tr>\n",
       "      <th>0</th>\n",
       "      <td>Rachel Miner</td>\n",
       "      <td>[Bully (2001)44) A pack of nave teenagers cons...</td>\n",
       "      <td>https://www.imdb.com/name/nm0001540</td>\n",
       "      <td>[https://www.imdb.com/title/tt0242193/plotsumm...</td>\n",
       "    </tr>\n",
       "    <tr>\n",
       "      <th>1</th>\n",
       "      <td>Charley Scalies</td>\n",
       "      <td>[The Wire (20022008)431) The Baltimore drug sc...</td>\n",
       "      <td>https://www.imdb.com/name/nm0002474</td>\n",
       "      <td>[https://www.imdb.com/title/tt0306414/plotsumm...</td>\n",
       "    </tr>\n",
       "    <tr>\n",
       "      <th>2</th>\n",
       "      <td>Mia Sara</td>\n",
       "      <td>[Black Day Blue Night (1995)Summaries The disg...</td>\n",
       "      <td>https://www.imdb.com/name/nm0000214</td>\n",
       "      <td>[https://www.imdb.com/title/tt0112515/plotsumm...</td>\n",
       "    </tr>\n",
       "    <tr>\n",
       "      <th>3</th>\n",
       "      <td>J. Wesley Adams</td>\n",
       "      <td>[Bull Durham (1988)431) A fan who has an affai...</td>\n",
       "      <td>https://www.imdb.com/name/nm0011024</td>\n",
       "      <td>[https://www.imdb.com/title/tt0094812/plotsumm...</td>\n",
       "    </tr>\n",
       "    <tr>\n",
       "      <th>4</th>\n",
       "      <td>Stacey Adams</td>\n",
       "      <td>[Sweet Revenge (I) (1987)Summaries Nancy Allen...</td>\n",
       "      <td>https://www.imdb.com/name/nm0011362</td>\n",
       "      <td>[https://www.imdb.com/title/tt0094087/plotsumm...</td>\n",
       "    </tr>\n",
       "  </tbody>\n",
       "</table>\n",
       "</div>"
      ],
      "text/plain": [
       "          actorOut                                           movieOut  \\\n",
       "0     Rachel Miner  [Bully (2001)44) A pack of nave teenagers cons...   \n",
       "1  Charley Scalies  [The Wire (20022008)431) The Baltimore drug sc...   \n",
       "2         Mia Sara  [Black Day Blue Night (1995)Summaries The disg...   \n",
       "3  J. Wesley Adams  [Bull Durham (1988)431) A fan who has an affai...   \n",
       "4     Stacey Adams  [Sweet Revenge (I) (1987)Summaries Nancy Allen...   \n",
       "\n",
       "                             actorLink  \\\n",
       "0  https://www.imdb.com/name/nm0001540   \n",
       "1  https://www.imdb.com/name/nm0002474   \n",
       "2  https://www.imdb.com/name/nm0000214   \n",
       "3  https://www.imdb.com/name/nm0011024   \n",
       "4  https://www.imdb.com/name/nm0011362   \n",
       "\n",
       "                                             movLink  \n",
       "0  [https://www.imdb.com/title/tt0242193/plotsumm...  \n",
       "1  [https://www.imdb.com/title/tt0306414/plotsumm...  \n",
       "2  [https://www.imdb.com/title/tt0112515/plotsumm...  \n",
       "3  [https://www.imdb.com/title/tt0094812/plotsumm...  \n",
       "4  [https://www.imdb.com/title/tt0094087/plotsumm...  "
      ]
     },
     "execution_count": 30,
     "metadata": {},
     "output_type": "execute_result"
    }
   ],
   "source": [
    "dfl"
   ]
  },
  {
   "cell_type": "code",
   "execution_count": null,
   "metadata": {},
   "outputs": [],
   "source": []
  }
 ],
 "metadata": {
  "kernelspec": {
   "display_name": "Python 3",
   "language": "python",
   "name": "python3"
  },
  "language_info": {
   "codemirror_mode": {
    "name": "ipython",
    "version": 3
   },
   "file_extension": ".py",
   "mimetype": "text/x-python",
   "name": "python",
   "nbconvert_exporter": "python",
   "pygments_lexer": "ipython3",
   "version": "3.8.3"
  }
 },
 "nbformat": 4,
 "nbformat_minor": 4
}
