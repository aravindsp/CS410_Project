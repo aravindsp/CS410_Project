{
 "cells": [
  {
   "cell_type": "code",
   "execution_count": 26,
   "metadata": {},
   "outputs": [],
   "source": [
    "#https://www.analyticsvidhya.com/blog/2021/05/build-your-own-nlp-based-search-engine-using-bm25/#h2_3\n",
    "#!pip install gensim"
   ]
  },
  {
   "cell_type": "code",
   "execution_count": 69,
   "metadata": {},
   "outputs": [],
   "source": [
    "import pandas as pd\n",
    "from rank_bm25 import *"
   ]
  },
  {
   "cell_type": "code",
   "execution_count": 82,
   "metadata": {},
   "outputs": [
    {
     "data": {
      "text/html": [
       "<div>\n",
       "<style scoped>\n",
       "    .dataframe tbody tr th:only-of-type {\n",
       "        vertical-align: middle;\n",
       "    }\n",
       "\n",
       "    .dataframe tbody tr th {\n",
       "        vertical-align: top;\n",
       "    }\n",
       "\n",
       "    .dataframe thead th {\n",
       "        text-align: right;\n",
       "    }\n",
       "</style>\n",
       "<table border=\"1\" class=\"dataframe\">\n",
       "  <thead>\n",
       "    <tr style=\"text-align: right;\">\n",
       "      <th></th>\n",
       "      <th>primaryName</th>\n",
       "      <th>birthYear</th>\n",
       "      <th>deathYear</th>\n",
       "      <th>primaryProfession</th>\n",
       "      <th>knownForTitles</th>\n",
       "      <th>titleCount</th>\n",
       "      <th>movieNames</th>\n",
       "    </tr>\n",
       "    <tr>\n",
       "      <th>nconst</th>\n",
       "      <th></th>\n",
       "      <th></th>\n",
       "      <th></th>\n",
       "      <th></th>\n",
       "      <th></th>\n",
       "      <th></th>\n",
       "      <th></th>\n",
       "    </tr>\n",
       "  </thead>\n",
       "  <tbody>\n",
       "    <tr>\n",
       "      <th>nm0244191</th>\n",
       "      <td>Peter Durkin</td>\n",
       "      <td>\\N</td>\n",
       "      <td>\\N</td>\n",
       "      <td>actor,stunts</td>\n",
       "      <td>tt10360064,tt2951478,tt0159876,tt0179846,tt010...</td>\n",
       "      <td>5</td>\n",
       "      <td>NaN</td>\n",
       "    </tr>\n",
       "    <tr>\n",
       "      <th>nm0300543</th>\n",
       "      <td>Per Gade</td>\n",
       "      <td>\\N</td>\n",
       "      <td>\\N</td>\n",
       "      <td>music_department,actor</td>\n",
       "      <td>tt2127538,tt0115588,tt0467490,tt1111774,tt0115374</td>\n",
       "      <td>5</td>\n",
       "      <td>NaN</td>\n",
       "    </tr>\n",
       "    <tr>\n",
       "      <th>nm0472407</th>\n",
       "      <td>Dora Krsková</td>\n",
       "      <td>1978</td>\n",
       "      <td>\\N</td>\n",
       "      <td>actress</td>\n",
       "      <td>tt7174612,tt1024861,tt0356799,tt6368164,tt0117...</td>\n",
       "      <td>6</td>\n",
       "      <td>NaN</td>\n",
       "    </tr>\n",
       "    <tr>\n",
       "      <th>nm10102449</th>\n",
       "      <td>Zachary Iziah Smith</td>\n",
       "      <td>1991</td>\n",
       "      <td>\\N</td>\n",
       "      <td>actor,composer,writer</td>\n",
       "      <td>tt15445360,tt14726796,tt10633130,tt10691474,tt...</td>\n",
       "      <td>5</td>\n",
       "      <td>NaN</td>\n",
       "    </tr>\n",
       "    <tr>\n",
       "      <th>nm10163074</th>\n",
       "      <td>Monika Tyagi</td>\n",
       "      <td>\\N</td>\n",
       "      <td>\\N</td>\n",
       "      <td>assistant_director,actress</td>\n",
       "      <td>tt15692286,tt8130558,tt11260832,tt13773882,tt8...</td>\n",
       "      <td>5</td>\n",
       "      <td>NaN</td>\n",
       "    </tr>\n",
       "  </tbody>\n",
       "</table>\n",
       "</div>"
      ],
      "text/plain": [
       "                    primaryName birthYear deathYear  \\\n",
       "nconst                                                \n",
       "nm0244191          Peter Durkin        \\N        \\N   \n",
       "nm0300543              Per Gade        \\N        \\N   \n",
       "nm0472407          Dora Krsková      1978        \\N   \n",
       "nm10102449  Zachary Iziah Smith      1991        \\N   \n",
       "nm10163074         Monika Tyagi        \\N        \\N   \n",
       "\n",
       "                     primaryProfession  \\\n",
       "nconst                                   \n",
       "nm0244191                 actor,stunts   \n",
       "nm0300543       music_department,actor   \n",
       "nm0472407                      actress   \n",
       "nm10102449       actor,composer,writer   \n",
       "nm10163074  assistant_director,actress   \n",
       "\n",
       "                                               knownForTitles  titleCount  \\\n",
       "nconst                                                                      \n",
       "nm0244191   tt10360064,tt2951478,tt0159876,tt0179846,tt010...           5   \n",
       "nm0300543   tt2127538,tt0115588,tt0467490,tt1111774,tt0115374           5   \n",
       "nm0472407   tt7174612,tt1024861,tt0356799,tt6368164,tt0117...           6   \n",
       "nm10102449  tt15445360,tt14726796,tt10633130,tt10691474,tt...           5   \n",
       "nm10163074  tt15692286,tt8130558,tt11260832,tt13773882,tt8...           5   \n",
       "\n",
       "            movieNames  \n",
       "nconst                  \n",
       "nm0244191          NaN  \n",
       "nm0300543          NaN  \n",
       "nm0472407          NaN  \n",
       "nm10102449         NaN  \n",
       "nm10163074         NaN  "
      ]
     },
     "execution_count": 82,
     "metadata": {},
     "output_type": "execute_result"
    }
   ],
   "source": [
    "actors=pd.read_csv('actors.csv').set_index('nconst')\n",
    "actors.head()"
   ]
  },
  {
   "cell_type": "code",
   "execution_count": 71,
   "metadata": {},
   "outputs": [],
   "source": [
    "def spl_chars_removal(lst):\n",
    "    lst1=list()\n",
    "    for element in lst:\n",
    "        str=\"\"\n",
    "        str = re.sub(\"[0-9a-zA-Z]\",\" \",element)\n",
    "        lst1.append(str)\n",
    "    return lst1"
   ]
  },
  {
   "cell_type": "code",
   "execution_count": 72,
   "metadata": {},
   "outputs": [],
   "source": [
    "#adding words to stopwords\n",
    "from nltk.tokenize import word_tokenize\n",
    "from gensim.parsing.preprocessing import STOPWORDS"
   ]
  },
  {
   "cell_type": "code",
   "execution_count": 73,
   "metadata": {},
   "outputs": [],
   "source": [
    "def stopwprds_removal_gensim_custom(lst):\n",
    "    lst1=list()\n",
    "    for str in lst:\n",
    "        text_tokens = word_tokenize(str)\n",
    "        tokens_without_sw = [word for word in text_tokens if not word in all_stopwords_gensim]\n",
    "        str_t = \" \".join(tokens_without_sw)\n",
    "        lst1.append(str_t)\n",
    " \n",
    "    return lst1"
   ]
  },
  {
   "cell_type": "code",
   "execution_count": 74,
   "metadata": {},
   "outputs": [],
   "source": [
    "import glob\n",
    "# All files ending with .txt\n",
    "fileList = glob.glob(\"/Users/apillai2/000_CS410_PROJECT/actorFile/*.txt\")"
   ]
  },
  {
   "cell_type": "code",
   "execution_count": 75,
   "metadata": {},
   "outputs": [],
   "source": [
    "docList = []\n",
    "dfList = []\n",
    "for fl in fileList:\n",
    "    with open(fl, 'r') as file:\n",
    "        data = file.read().replace('\\n', '')\n",
    "    docList.append(data)\n",
    "    f2 = fl.replace('/Users/apillai2/000_CS410_PROJECT/actorFile/','').replace('.txt','')\n",
    "    dfList.append([f2,data])"
   ]
  },
  {
   "cell_type": "code",
   "execution_count": 76,
   "metadata": {},
   "outputs": [],
   "source": [
    "tokenized_corpus = [doc.split(\" \") for doc in docList]\n",
    "bm25 = BM25Okapi(tokenized_corpus)"
   ]
  },
  {
   "cell_type": "code",
   "execution_count": 100,
   "metadata": {},
   "outputs": [],
   "source": [
    "query = \"time travel\" ## Enter search query\n",
    "tokenized_query = query.split(\" \")"
   ]
  },
  {
   "cell_type": "code",
   "execution_count": 101,
   "metadata": {},
   "outputs": [],
   "source": [
    "#doc_scores = bm25.get_scores(tokenized_query)\n",
    "#print(doc_scores)"
   ]
  },
  {
   "cell_type": "code",
   "execution_count": 102,
   "metadata": {},
   "outputs": [],
   "source": [
    "rankedDocs = bm25.get_top_n(tokenized_query, docList, n=5)"
   ]
  },
  {
   "cell_type": "code",
   "execution_count": 107,
   "metadata": {},
   "outputs": [
    {
     "name": "stdout",
     "output_type": "stream",
     "text": [
      "** Matthew Delia\n",
      " The Dark Military (2019) Plot Showing all 2 items Jump to: Summaries (2) Summaries Halloween gets a modern technological upgrade. As a group calling themselves The Dark Military. Lure unsuspecting yo\n",
      "----\n",
      " Hero or Menace: A Marvel Comic Fan Film Summaries Two journalism students from Midtown High School hit the streets of New York City within the Marvel Universe to get the public's opinion of Spider-Ma\n",
      "----\n",
      " MUDA When Time Is All That Matters (2016) Plot Showing all 3 items Jump to: Summaries (3) Summaries Muda: When Time Is All That matters- An independent feature film from Writer / Director Prinze Whye\n",
      "----\n",
      " The Deal (I) (2018) Plot Showing all 0 items Jump to: Summaries It looks like we don't have any Plot Summaries for this title yet. Be the first to contribute! Just click the \"page\" button at the bott\n",
      "----\n",
      " Grindsploitation (2016) Summaries Exploitation anthology from the twisted minds of established and up and coming directors from across the globe. Synopsis It looks like we don't have a Synopsis for t\n",
      "----\n",
      "=================================================\n",
      "** Elijah Evans IV\n",
      " 1FW Road to Greatness (2018 Video) Summaries Singles Match Aja Perera (w/Dara Destiny) VS Ravana Xin Singles Match Tim Miller VS Mike Reed Singles Match Elijah Evans IV VS Fearless Musa Singles Match\n",
      "----\n",
      " Beyond Wrestling (2009 ) Summaries Beyond has always been one of my favorite promotions, producing some excellent home grown talent and giving the platform to many wrestlers that otherwise might have\n",
      "----\n",
      " Ring of Honor Wrestling (2009 ) Summaries Ring of Honor (ROH) is an American professional wrestling promotion, founded in 2002 by RF Video owner Rob Feinstein. From 2004 to 2011, the promotion was un\n",
      "----\n",
      " The Pulse (2015 ) Plot Showing all 0 items Jump to: Summaries It looks like we don't have any Plot Summaries for this title yet. Be the first to contribute! Just click the \"page\" button at the bottom\n",
      "----\n",
      " 1FW (2017 ) Summaries 1 Fall Wrestling is an American independent professional wrestling promotion based in Cornelia, Georgia. Synopsis It looks like we don't have a Synopsis for this title yet. Be t\n",
      "----\n",
      "=================================================\n",
      "** Meelis Muhu\n",
      " Wikmani poisid (1995 ) Summaries The series \"Wikman's Boys\" is based in Estonia in the years 1937-1944. The action unfolds in 1937, when the boys are studying in the Wikman Private Gymnasium under th\n",
      "----\n",
      " Alyosha (2008) Plot Showing all 0 items Jump to: Summaries It looks like we don't have any Plot Summaries for this title yet. Be the first to contribute! Just click the \"page\" button at the bottom of\n",
      "----\n",
      " Appi, ma vajan armastust (2017) Summaries 25-year old Mati has never experienced love. All of his friends are in a relationship or even married, yet Mati has not even kissed a girl. Every attempt to \n",
      "----\n",
      " Let's Play War! (2016) Summaries While there are fewer and fewer World War II veterans among the living, the battles of this war keep reoccurring on different battlegrounds on the Eastern territories\n",
      "----\n",
      " Lurjus (1999) Plot Showing all 0 items Jump to: Summaries It looks like we don't have any Plot Summaries for this title yet. Be the first to contribute! Just click the \"page\" button at the bottom of \n",
      "----\n",
      "=================================================\n",
      "** Mia Perovetz\n",
      " Identical (2011) Plot Showing all 2 items Jump to: Summaries (2) Summaries Identical twins are born, one is good and one is evil. They need each other to exist, but they deeply resent the other's exi\n",
      "----\n",
      " Resurrecting the Street Walker (2009) Plot Showing all 2 items Jump to: Summaries (1) Synopsis (1) Summaries An ambitious young filmmaker discovers an abandoned and incomplete horror movie from the 1\n",
      "----\n",
      " Flipped: A Mobster Tells All (2010 TV Movie) Plot Showing all 0 items Jump to: Summaries It looks like we don't have any Plot Summaries for this title yet. Be the first to contribute! Just click the \n",
      "----\n",
      " Celebrity Ghost Stories (2008 ) Summaries Celebrities talk about paranormal experiences that they've had. Synopsis It looks like we don't have a Synopsis for this title yet. Be the first to contribut\n",
      "----\n",
      " When Harry Tries to Marry (2011) Plot Showing all 2 items Jump to: Summaries (2) Summaries An Indian-American guy surprises his family when he announces his desire for an arranged marriage with an In\n",
      "----\n",
      "=================================================\n",
      "** Peter Durkin\n",
      " Colonial Combat (20192021) Summaries Colonial Combat takes a laugh at our unofficial NZ colonial history. It's a dog eat dog world, where colourful characters compete inside and outside of the ring. \n",
      "----\n",
      " Call of Duty: Ghosts (2013 Video Game) Plot Showing all 2 items Jump to: Summaries (2) Summaries Ten years after a terrible attack that wipes out part of the population, two brothers must rebel again\n",
      "----\n",
      " Great Performances (1971 ) Plot Showing all 2 items Jump to: Summaries (2) Summaries Filmed and televised versions of theater productions, such as plays, musicals, operas, ballets, and concerts from \n",
      "----\n",
      " Hey, Mr. Producer! the Musical World of Cameron Mackintosh (1998 TV Special) Summaries A collection of selected scenes from some of the most popular plays produced by Cameron Mackintosh. Synopsis It \n",
      "----\n",
      " Bullseye! (1990) Plot Showing all 3 items Jump to: Summaries (2) Synopsis (1) Summaries Two scientists working for UK and USA invent cold fusion. They decide to auction it off to foreign nations. Two\n",
      "----\n",
      "=================================================\n"
     ]
    }
   ],
   "source": [
    "for i in rankedDocs:\n",
    "    nmLoc = i.find(': ')\n",
    "    i_Val=i[0:nmLoc]\n",
    "    i_Loc = actors.index.get_loc(i_Val)\n",
    "    actor = actors.iloc[i_Loc]['primaryName']\n",
    "    movies = actors.iloc[i_Loc]['knownForTitles']\n",
    "    print(\"**\",actor)\n",
    "    for m in movies.split(','):\n",
    "        fl_2 = '/Users/apillai2/000_CS410_PROJECT/movieFile/'+m+'.txt'\n",
    "        with open(fl_2, 'r') as file:\n",
    "            data = file.read().replace('\\n \\n', '')\n",
    "            print(data[0:200])\n",
    "            print('----')\n",
    "    print(\"=================================================\")"
   ]
  },
  {
   "cell_type": "code",
   "execution_count": null,
   "metadata": {},
   "outputs": [],
   "source": []
  }
 ],
 "metadata": {
  "kernelspec": {
   "display_name": "Python 3",
   "language": "python",
   "name": "python3"
  },
  "language_info": {
   "codemirror_mode": {
    "name": "ipython",
    "version": 3
   },
   "file_extension": ".py",
   "mimetype": "text/x-python",
   "name": "python",
   "nbconvert_exporter": "python",
   "pygments_lexer": "ipython3",
   "version": "3.8.3"
  }
 },
 "nbformat": 4,
 "nbformat_minor": 4
}
